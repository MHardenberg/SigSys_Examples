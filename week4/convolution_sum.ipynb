{
 "cells": [
  {
   "cell_type": "code",
   "execution_count": null,
   "id": "cdcfdf57-ce59-46a3-87a0-78c56b25cecc",
   "metadata": {},
   "outputs": [],
   "source": [
    "import matplotlib.pyplot as plt\n",
    "import numpy as np"
   ]
  },
  {
   "cell_type": "markdown",
   "id": "9a9bd3da-fe6f-482a-ac00-e87c22174af5",
   "metadata": {},
   "source": [
    "# Convolution"
   ]
  },
  {
   "cell_type": "markdown",
   "id": "50d71063-4cca-4a8a-aaea-af4b9ad1af3a",
   "metadata": {},
   "source": [
    "**Example 2.1:** Let the convolution sum of a linear, time invariant (LTI) system $y[n]$ with some impulse respoance $h[n]$ and some input $x[n]$ be defined as \n",
    "$$ y[n] = \\sum_{k=-\\infty}^\\infty x[k] h[n - k]. $$\n",
    "\n",
    "Now let\n",
    "$$ h[n] = \\begin{cases}\n",
    "        1, \\text{ for } 0 \\leq n \\leq 2, \\\\\n",
    "        0, \\text{ otherwise}\n",
    "        \\end{cases}\n",
    "$$\n",
    "\n",
    "and\n",
    "$$ x[n] = \\begin{cases}\n",
    "        0.5, \\text{ for } n = 0,\\\\\n",
    "        2, \\text{ for } n = 1,\\\\\n",
    "        0, \\text{ otherwise}.\n",
    "        \\end{cases}\n",
    "$$"
   ]
  },
  {
   "cell_type": "markdown",
   "id": "f81760a4-3bd7-4c37-a988-2a9fcdd82d56",
   "metadata": {},
   "source": [
    "## Define your signal and impulse response"
   ]
  },
  {
   "cell_type": "code",
   "execution_count": null,
   "id": "36c2c028-a058-4999-a29b-af177d4ef068",
   "metadata": {},
   "outputs": [],
   "source": [
    "sample_points = np.arange(10)\n",
    "\n",
    "## Define your signal x[n] and filter response h[n] for n in [-2, 10]\n",
    "xn =\n",
    "hn =\n",
    "\n",
    "##\n",
    "print('Resulting arrays:\\n',\n",
    "      f'n = {sample_points},\\n x = {xn},\\n h = {hn}.')"
   ]
  },
  {
   "cell_type": "markdown",
   "id": "6a15ee8e-eec9-408b-b3c5-3e6545364ada",
   "metadata": {},
   "source": [
    "### Plot your signals\n",
    "and sanity check"
   ]
  },
  {
   "cell_type": "code",
   "execution_count": null,
   "id": "5457db34-d210-4d1a-adf8-668dcc3b99c7",
   "metadata": {},
   "outputs": [],
   "source": [
    "def lollipop(axis:plt.axis, x:np.ndarray, y:np.ndarray, colour:str, label:str) -> None:\n",
    "    \"\"\" You are also free to use pyplot.stem(),\n",
    "        I find mine nicer.\"\"\"\n",
    "    ax.scatter(x, y, c=colour, label=label, linewidths=6)\n",
    "    ax.vlines(x, ymin=0, ymax=y, colors=colour)\n",
    "    "
   ]
  },
  {
   "cell_type": "code",
   "execution_count": null,
   "id": "a4c4aab1-9dad-4fc2-99d7-707c99e0ccf6",
   "metadata": {},
   "outputs": [],
   "source": [
    "fig, ax = plt.subplots(figsize=(18, 6))\n",
    "\n",
    "lollipop(ax, sample_points, xn, 'tab:blue', label='x[n]')\n",
    "lollipop(ax, sample_points, hn, 'tab:orange', label='h[n]')\n",
    "\n",
    "ax.legend()\n",
    "ax.grid()\n",
    "plt.show()"
   ]
  },
  {
   "cell_type": "markdown",
   "id": "de9654e6-57ed-4284-84cd-ae858a2af9ac",
   "metadata": {},
   "source": [
    "## Convolution sum"
   ]
  },
  {
   "cell_type": "code",
   "execution_count": null,
   "id": "7f75646b-07cb-4ba3-972a-af6010115b21",
   "metadata": {},
   "outputs": [],
   "source": [
    "def conv_sum(signal: np.ndarray, rsp:np.ndarray) -> np.ndarray:\n",
    "    ## write some code that computes the convolution sum of input arrays signal, rsp (<- impulse response) and output some array y.\n",
    "\n",
    "    ##\n",
    "    return out\n"
   ]
  },
  {
   "cell_type": "code",
   "execution_count": null,
   "id": "f2ec3ebc-54b6-4fdd-980c-6507d9d3a346",
   "metadata": {},
   "outputs": [],
   "source": [
    "yn = conv_sum(xn, hn)"
   ]
  },
  {
   "cell_type": "markdown",
   "id": "a5eac9fa-46a1-4eae-9e19-d96fc5a523be",
   "metadata": {},
   "source": [
    "## Plot\n",
    "and compare to example in the book."
   ]
  },
  {
   "cell_type": "code",
   "execution_count": null,
   "id": "4250ed79-3dcf-468c-a5b6-8aff876807fe",
   "metadata": {},
   "outputs": [],
   "source": [
    "fig, ax = plt.subplots(figsize=(18, 6))\n",
    "\n",
    "lollipop(ax, sample_points, xn, 'tab:blue', label='x[n]')\n",
    "lollipop(ax, sample_points, yn, 'tab:green', label='y[n]')\n",
    "\n",
    "ax.legend()\n",
    "ax.grid()\n",
    "plt.show()"
   ]
  },
  {
   "cell_type": "code",
   "execution_count": null,
   "id": "b9cbecb5-6c6b-4698-99de-6bbd53e6ef19",
   "metadata": {},
   "outputs": [],
   "source": []
  }
 ],
 "metadata": {
  "kernelspec": {
   "display_name": "SigSys",
   "language": "python",
   "name": "sigsys"
  },
  "language_info": {
   "codemirror_mode": {
    "name": "ipython",
    "version": 3
   },
   "file_extension": ".py",
   "mimetype": "text/x-python",
   "name": "python",
   "nbconvert_exporter": "python",
   "pygments_lexer": "ipython3",
   "version": "3.11.5"
  }
 },
 "nbformat": 4,
 "nbformat_minor": 5
}
