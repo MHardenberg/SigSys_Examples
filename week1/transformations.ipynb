{
 "cells": [
  {
   "cell_type": "code",
   "execution_count": 1,
   "id": "26b9d140-d83c-4322-9993-c5cbfb62e5ec",
   "metadata": {},
   "outputs": [
    {
     "ename": "ModuleNotFoundError",
     "evalue": "No module named 'numpy'",
     "output_type": "error",
     "traceback": [
      "\u001b[0;31m---------------------------------------------------------------------------\u001b[0m",
      "\u001b[0;31mModuleNotFoundError\u001b[0m                       Traceback (most recent call last)",
      "Cell \u001b[0;32mIn[1], line 1\u001b[0m\n\u001b[0;32m----> 1\u001b[0m \u001b[38;5;28;01mimport\u001b[39;00m \u001b[38;5;21;01mnumpy\u001b[39;00m \u001b[38;5;28;01mas\u001b[39;00m \u001b[38;5;21;01mnp\u001b[39;00m\n\u001b[1;32m      2\u001b[0m \u001b[38;5;28;01mimport\u001b[39;00m \u001b[38;5;21;01mmatplotlib\u001b[39;00m\u001b[38;5;21;01m.\u001b[39;00m\u001b[38;5;21;01mpyplot\u001b[39;00m \u001b[38;5;28;01mas\u001b[39;00m \u001b[38;5;21;01mplt\u001b[39;00m\n",
      "\u001b[0;31mModuleNotFoundError\u001b[0m: No module named 'numpy'"
     ]
    }
   ],
   "source": [
    "import numpy as np\n",
    "import matplotlib.pyplot as plt"
   ]
  },
  {
   "cell_type": "markdown",
   "id": "b7223164-f0d1-4e3c-86d7-eeb7153fc874",
   "metadata": {},
   "source": [
    "# Simple signal transformations"
   ]
  },
  {
   "cell_type": "code",
   "execution_count": 6,
   "id": "7ec8e1ae-6596-48b2-af6f-94623905b53c",
   "metadata": {},
   "outputs": [],
   "source": [
    "def interpolate(x, points=((0, 0), (1, 1))):\n",
    "    \"\"\" This functions takes two points A, B and assumes a straightline between them. \n",
    "    It then returns the y value of some point (x, y) between A,B,\n",
    "    by scaling the total y distance by the ratio of partial and total x distance.\"\"\"\n",
    "    \n",
    "    (ax, ay), (bx, by) = points\n",
    "    assert ax <= x<= bx, ValueError(\"x outside range\")\n",
    "\n",
    "    total_x_dist = bx - ax\n",
    "    partial_x_dist = ax - x\n",
    "    \n",
    "    total_y_dist = by - ay\n",
    "\n",
    "    interpolated_y = ay + total_y_dist * partial_x_dist / total_x_dist\n",
    "    return interpolated_y\n",
    "\n",
    "def sawtooth(t, peaks=(-2, -1, 1, 2)):\n",
    "    \n",
    "    return "
   ]
  },
  {
   "cell_type": "code",
   "execution_count": 7,
   "id": "8d32d744-202b-4c38-8973-37e73db796ee",
   "metadata": {},
   "outputs": [
    {
     "data": {
      "text/plain": [
       "-0.3"
      ]
     },
     "execution_count": 7,
     "metadata": {},
     "output_type": "execute_result"
    }
   ],
   "source": [
    "interpolate(0.3)"
   ]
  },
  {
   "cell_type": "code",
   "execution_count": null,
   "id": "192e06b0-490e-424c-b1b5-9a7aedcbe61f",
   "metadata": {},
   "outputs": [],
   "source": []
  }
 ],
 "metadata": {
  "kernelspec": {
   "display_name": "Python 3 (ipykernel)",
   "language": "python",
   "name": "python3"
  },
  "language_info": {
   "codemirror_mode": {
    "name": "ipython",
    "version": 3
   },
   "file_extension": ".py",
   "mimetype": "text/x-python",
   "name": "python",
   "nbconvert_exporter": "python",
   "pygments_lexer": "ipython3",
   "version": "3.11.4"
  }
 },
 "nbformat": 4,
 "nbformat_minor": 5
}
